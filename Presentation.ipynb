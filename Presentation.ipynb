{
 "cells": [
  {
   "cell_type": "code",
   "execution_count": 1,
   "id": "37339ac3-5fda-499a-907c-a2b3a6b43246",
   "metadata": {
    "editable": true,
    "execution": {
     "iopub.execute_input": "2024-06-26T15:28:29.044623Z",
     "iopub.status.busy": "2024-06-26T15:28:29.044144Z",
     "iopub.status.idle": "2024-06-26T15:28:29.078000Z",
     "shell.execute_reply": "2024-06-26T15:28:29.076838Z",
     "shell.execute_reply.started": "2024-06-26T15:28:29.044572Z"
    },
    "slideshow": {
     "slide_type": "skip"
    },
    "tags": []
   },
   "outputs": [],
   "source": [
    "%load_ext autoreload\n",
    "%autoreload 2"
   ]
  },
  {
   "cell_type": "markdown",
   "id": "853769d7-44cb-405e-8fd2-08a14d55f312",
   "metadata": {
    "editable": true,
    "slideshow": {
     "slide_type": "slide"
    },
    "tags": []
   },
   "source": [
    "# Large Language Models Playing Mixed Strategy Nash Equilibrium Games\n",
    "\n",
    "Alonso Silva (Nokia Bell Labs) \n",
    "\n",
    "LINCS Annual Workshop - June 27th, 2024."
   ]
  },
  {
   "cell_type": "markdown",
   "id": "e438944f-baab-445e-9ffe-630ee021593a",
   "metadata": {
    "editable": true,
    "slideshow": {
     "slide_type": "slide"
    },
    "tags": []
   },
   "source": [
    "## Table of contents\n",
    "\n",
    "- Introduction to Large Language Models (LLMs)\n",
    "- Introduction to Mixed Strategy Nash Equilibrium Games\n",
    "- LLMs playing Mixed Strategy Nash Equilibrium Games\n",
    "- Conclusions"
   ]
  },
  {
   "cell_type": "markdown",
   "id": "d419e7fc-4227-4a96-8055-ee9d7558701e",
   "metadata": {
    "editable": true,
    "slideshow": {
     "slide_type": "slide"
    },
    "tags": []
   },
   "source": [
    "# Introduction to Large Language Models"
   ]
  },
  {
   "cell_type": "markdown",
   "id": "1970493a-fed9-4f7f-85b4-4c9da56b8da7",
   "metadata": {
    "editable": true,
    "slideshow": {
     "slide_type": "slide"
    },
    "tags": []
   },
   "source": [
    "## Completion"
   ]
  },
  {
   "cell_type": "code",
   "execution_count": 40,
   "id": "90da5b56-5c5b-4e22-8b5d-0841a237886d",
   "metadata": {
    "editable": true,
    "execution": {
     "iopub.execute_input": "2024-06-26T15:31:31.591587Z",
     "iopub.status.busy": "2024-06-26T15:31:31.590984Z",
     "iopub.status.idle": "2024-06-26T15:31:31.622673Z",
     "shell.execute_reply": "2024-06-26T15:31:31.621798Z",
     "shell.execute_reply.started": "2024-06-26T15:31:31.591483Z"
    },
    "slideshow": {
     "slide_type": "slide"
    },
    "tags": []
   },
   "outputs": [],
   "source": [
    "prompt = \"One, two, three,\""
   ]
  },
  {
   "cell_type": "code",
   "execution_count": 41,
   "id": "c7c31a7a-b7dd-4929-8817-1cb48ff64057",
   "metadata": {
    "editable": true,
    "execution": {
     "iopub.execute_input": "2024-06-26T15:31:31.974509Z",
     "iopub.status.busy": "2024-06-26T15:31:31.973829Z",
     "iopub.status.idle": "2024-06-26T15:31:32.696273Z",
     "shell.execute_reply": "2024-06-26T15:31:32.695763Z",
     "shell.execute_reply.started": "2024-06-26T15:31:31.974455Z"
    },
    "slideshow": {
     "slide_type": "fragment"
    },
    "tags": []
   },
   "outputs": [
    {
     "name": "stdout",
     "output_type": "stream",
     "text": [
      " four, five, six, seven, eight, nine, ten.\n",
      "\n",
      "\n"
     ]
    }
   ],
   "source": [
    "import requests\n",
    "\n",
    "options = {\"prompt\": prompt, \"temperature\": 0, \"seed\": 0}\n",
    "api_completions = \"http://localhost:8000/v1/completions\"\n",
    "response = requests.post(api_completions, json=options).json()\n",
    "print(response[\"choices\"][0][\"text\"])"
   ]
  },
  {
   "cell_type": "markdown",
   "id": "3dcc22f1-fcb6-4be8-8bf7-9b827f509ef4",
   "metadata": {
    "editable": true,
    "slideshow": {
     "slide_type": "slide"
    },
    "tags": []
   },
   "source": [
    "## Chat"
   ]
  },
  {
   "attachments": {},
   "cell_type": "markdown",
   "id": "b7d2fa42-1f62-46ea-a5d4-fba86ffbea65",
   "metadata": {
    "editable": true,
    "slideshow": {
     "slide_type": "slide"
    },
    "tags": []
   },
   "source": [
    "![ChatGPT UI](./assets/ChatGPT.jpg \"ChatGPT\")"
   ]
  },
  {
   "cell_type": "code",
   "execution_count": 50,
   "id": "c0104f41-7e5b-434d-9669-43acb9838c87",
   "metadata": {
    "editable": true,
    "execution": {
     "iopub.execute_input": "2024-06-26T15:35:30.121472Z",
     "iopub.status.busy": "2024-06-26T15:35:30.120927Z",
     "iopub.status.idle": "2024-06-26T15:35:30.153815Z",
     "shell.execute_reply": "2024-06-26T15:35:30.152706Z",
     "shell.execute_reply.started": "2024-06-26T15:35:30.121420Z"
    },
    "slideshow": {
     "slide_type": "slide"
    },
    "tags": []
   },
   "outputs": [],
   "source": [
    "visible_user_prompt = \"What's the capital of France?\""
   ]
  },
  {
   "cell_type": "code",
   "execution_count": 53,
   "id": "f3519202-6a72-4881-b229-43c23855d654",
   "metadata": {
    "editable": true,
    "execution": {
     "iopub.execute_input": "2024-06-26T15:36:02.718824Z",
     "iopub.status.busy": "2024-06-26T15:36:02.718060Z",
     "iopub.status.idle": "2024-06-26T15:36:03.103530Z",
     "shell.execute_reply": "2024-06-26T15:36:03.102744Z",
     "shell.execute_reply.started": "2024-06-26T15:36:02.718769Z"
    },
    "slideshow": {
     "slide_type": "fragment"
    },
    "tags": []
   },
   "outputs": [
    {
     "data": {
      "text/plain": [
       "{'content': ' The capital of France is Paris.', 'role': 'assistant'}"
      ]
     },
     "execution_count": 53,
     "metadata": {},
     "output_type": "execute_result"
    }
   ],
   "source": [
    "messages = [\n",
    "    {\"role\": \"user\", \"content\": visible_user_prompt},\n",
    "]\n",
    "options_chat = {\"messages\": messages, \"temperature\": 0, \"seed\": 0, \"max_tokens\": None}\n",
    "api_chat_completions = \"http://localhost:8000/v1/chat/completions\"\n",
    "response = requests.post(api_chat_completions, json=options_chat).json()\n",
    "response[\"choices\"][0][\"message\"]"
   ]
  },
  {
   "cell_type": "code",
   "execution_count": 44,
   "id": "9d00e38d-8911-4d6c-86ae-a6c665c659d2",
   "metadata": {
    "editable": true,
    "execution": {
     "iopub.execute_input": "2024-06-26T15:32:26.142800Z",
     "iopub.status.busy": "2024-06-26T15:32:26.142160Z",
     "iopub.status.idle": "2024-06-26T15:32:27.057438Z",
     "shell.execute_reply": "2024-06-26T15:32:27.056712Z",
     "shell.execute_reply.started": "2024-06-26T15:32:26.142744Z"
    },
    "slideshow": {
     "slide_type": "slide"
    },
    "tags": []
   },
   "outputs": [
    {
     "data": {
      "text/plain": [
       "\"<s>[INST] What's the capital of France?[/INST]\""
      ]
     },
     "execution_count": 44,
     "metadata": {},
     "output_type": "execute_result"
    }
   ],
   "source": [
    "from transformers import AutoTokenizer\n",
    "\n",
    "tokenizer = AutoTokenizer.from_pretrained(\"mistralai/Mistral-7B-Instruct-v0.3\")\n",
    "prompt = tokenizer.apply_chat_template(messages, tokenize=False)\n",
    "prompt"
   ]
  },
  {
   "cell_type": "code",
   "execution_count": 55,
   "id": "3d018a8f-0602-4bba-b06b-f3fb1de156e9",
   "metadata": {
    "editable": true,
    "execution": {
     "iopub.execute_input": "2024-06-26T15:39:22.785787Z",
     "iopub.status.busy": "2024-06-26T15:39:22.785246Z",
     "iopub.status.idle": "2024-06-26T15:39:23.177683Z",
     "shell.execute_reply": "2024-06-26T15:39:23.176354Z",
     "shell.execute_reply.started": "2024-06-26T15:39:22.785734Z"
    },
    "slideshow": {
     "slide_type": "fragment"
    },
    "tags": []
   },
   "outputs": [
    {
     "name": "stdout",
     "output_type": "stream",
     "text": [
      " The capital of France is Paris.\n"
     ]
    }
   ],
   "source": [
    "prompt = f\"<s>[INST] What's the capital of France? [/INST]\"\n",
    "options = {'prompt': prompt, 'temperature': 0, 'seed': 0, 'max_tokens': None}\n",
    "response = requests.post(api_completions, json=options).json()\n",
    "print(response['choices'][0]['text'])"
   ]
  },
  {
   "cell_type": "markdown",
   "id": "fdb38022-36ea-46ed-ab9e-84d5f85d4f4f",
   "metadata": {
    "editable": true,
    "slideshow": {
     "slide_type": "slide"
    },
    "tags": []
   },
   "source": [
    "## Function calling"
   ]
  },
  {
   "cell_type": "markdown",
   "id": "619319e1-0242-4aa4-aeeb-cf4146e59797",
   "metadata": {
    "editable": true,
    "slideshow": {
     "slide_type": "slide"
    },
    "tags": []
   },
   "source": [
    "![ChatGPT](./assets/ChatGPT-Use-Python.jpg)"
   ]
  },
  {
   "cell_type": "code",
   "execution_count": 56,
   "id": "2aad38cd-e6ef-4d35-b5e5-14320edc694a",
   "metadata": {
    "editable": true,
    "execution": {
     "iopub.execute_input": "2024-06-26T15:55:35.120025Z",
     "iopub.status.busy": "2024-06-26T15:55:35.119359Z",
     "iopub.status.idle": "2024-06-26T15:55:35.152686Z",
     "shell.execute_reply": "2024-06-26T15:55:35.151787Z",
     "shell.execute_reply.started": "2024-06-26T15:55:35.119971Z"
    },
    "slideshow": {
     "slide_type": "slide"
    },
    "tags": []
   },
   "outputs": [],
   "source": [
    "visible_user_prompt = \"What's 12345 times 54321?\""
   ]
  },
  {
   "cell_type": "code",
   "execution_count": 57,
   "id": "ec457f0a-7cdb-4e78-9299-17e082d6568a",
   "metadata": {
    "editable": true,
    "execution": {
     "iopub.execute_input": "2024-06-26T15:55:35.834546Z",
     "iopub.status.busy": "2024-06-26T15:55:35.834012Z",
     "iopub.status.idle": "2024-06-26T15:55:35.867110Z",
     "shell.execute_reply": "2024-06-26T15:55:35.865993Z",
     "shell.execute_reply.started": "2024-06-26T15:55:35.834496Z"
    },
    "slideshow": {
     "slide_type": "fragment"
    },
    "tags": []
   },
   "outputs": [],
   "source": [
    "multiply_function = {\n",
    "    \"type\": \"function\",\n",
    "    \"function\": {\n",
    "        \"name\": \"multiply\",\n",
    "        \"description\": \"Multiply two integers together.\",\n",
    "        \"parameters\": {\n",
    "            \"type\": \"object\",\n",
    "            \"properties\": {\n",
    "                \"a\": {\"description\": \"First integer\", \"type\": \"integer\"},\n",
    "                \"b\": {\"description\": \"Second integer\", \"type\": \"integer\"},\n",
    "            },\n",
    "            \"required\": [\"a\", \"b\"],\n",
    "        },\n",
    "    },\n",
    "}"
   ]
  },
  {
   "cell_type": "code",
   "execution_count": 58,
   "id": "7399a98d-2ee6-4407-a997-3ecca18a293c",
   "metadata": {
    "editable": true,
    "execution": {
     "iopub.execute_input": "2024-06-26T15:55:36.854561Z",
     "iopub.status.busy": "2024-06-26T15:55:36.854105Z",
     "iopub.status.idle": "2024-06-26T15:55:36.882294Z",
     "shell.execute_reply": "2024-06-26T15:55:36.881563Z",
     "shell.execute_reply.started": "2024-06-26T15:55:36.854527Z"
    },
    "slideshow": {
     "slide_type": "slide"
    },
    "tags": []
   },
   "outputs": [
    {
     "data": {
      "text/plain": [
       "'<s>[AVAILABLE_TOOLS] [{\"type\": \"function\", \"function\": {\"name\": \"multiply\", \"description\": \"Multiply two integers together.\", \"parameters\": {\"type\": \"object\", \"properties\": {\"a\": {\"description\": \"First integer\", \"type\": \"integer\"}, \"b\": {\"description\": \"Second integer\", \"type\": \"integer\"}}, \"required\": [\"a\", \"b\"]}}}] [/AVAILABLE_TOOLS][INST] What\\'s 12345 times 54321? [/INST][TOOL_CALLS] '"
      ]
     },
     "execution_count": 58,
     "metadata": {},
     "output_type": "execute_result"
    }
   ],
   "source": [
    "import json\n",
    "\n",
    "final_prompt = (\n",
    "    \"<s>[AVAILABLE_TOOLS] [\"\n",
    "    + json.dumps(multiply_function)\n",
    "    + \"] [/AVAILABLE_TOOLS][INST] \"\n",
    "    + visible_user_prompt\n",
    "    + \" [/INST]\"\n",
    "    + \"[TOOL_CALLS] \"\n",
    ")\n",
    "final_prompt"
   ]
  },
  {
   "cell_type": "code",
   "execution_count": 59,
   "id": "ffb18916-3e9c-4252-82e5-47cee48e0dbf",
   "metadata": {
    "editable": true,
    "execution": {
     "iopub.execute_input": "2024-06-26T15:55:39.067421Z",
     "iopub.status.busy": "2024-06-26T15:55:39.066900Z",
     "iopub.status.idle": "2024-06-26T15:55:40.539315Z",
     "shell.execute_reply": "2024-06-26T15:55:40.538034Z",
     "shell.execute_reply.started": "2024-06-26T15:55:39.067371Z"
    },
    "slideshow": {
     "slide_type": "slide"
    },
    "tags": []
   },
   "outputs": [
    {
     "name": "stdout",
     "output_type": "stream",
     "text": [
      " [{\"name\": \"multiply\", \"arguments\": {\"a\": 12345, \"b\": 54321}}]\n"
     ]
    }
   ],
   "source": [
    "options = {'prompt': final_prompt, 'temperature': 0, 'seed': 0, 'max_tokens': None}\n",
    "response = requests.post(api_completions, json=options).json()\n",
    "print(response['choices'][0]['text'])"
   ]
  },
  {
   "cell_type": "code",
   "execution_count": 60,
   "id": "93de7420-a27c-43bf-800c-19c6410e9eb8",
   "metadata": {
    "editable": true,
    "execution": {
     "iopub.execute_input": "2024-06-26T15:55:46.954544Z",
     "iopub.status.busy": "2024-06-26T15:55:46.953821Z",
     "iopub.status.idle": "2024-06-26T15:55:46.988028Z",
     "shell.execute_reply": "2024-06-26T15:55:46.986659Z",
     "shell.execute_reply.started": "2024-06-26T15:55:46.954489Z"
    },
    "slideshow": {
     "slide_type": "slide"
    },
    "tags": []
   },
   "outputs": [],
   "source": [
    "import regex\n",
    "\n",
    "def extract_first_of_nested_brackets(input_string):\n",
    "    # Pattern to match the first complete set of brackets including nested ones\n",
    "    pattern = r'\\{(?:[^\\{\\}]*|(?R))*\\}'\n",
    "    match = regex.search(pattern, input_string)\n",
    "    if match:\n",
    "        return match.group(0)  # Returns the matched text including brackets\n",
    "    return None"
   ]
  },
  {
   "cell_type": "code",
   "execution_count": 61,
   "id": "5a1016bf-aa08-4423-8619-bad7bf1c42e6",
   "metadata": {
    "editable": true,
    "execution": {
     "iopub.execute_input": "2024-06-26T15:55:47.618739Z",
     "iopub.status.busy": "2024-06-26T15:55:47.618050Z",
     "iopub.status.idle": "2024-06-26T15:55:47.654305Z",
     "shell.execute_reply": "2024-06-26T15:55:47.653437Z",
     "shell.execute_reply.started": "2024-06-26T15:55:47.618684Z"
    },
    "slideshow": {
     "slide_type": "fragment"
    },
    "tags": []
   },
   "outputs": [
    {
     "data": {
      "text/plain": [
       "'{\"name\": \"multiply\", \"arguments\": {\"a\": 12345, \"b\": 54321}}'"
      ]
     },
     "execution_count": 61,
     "metadata": {},
     "output_type": "execute_result"
    }
   ],
   "source": [
    "extract_first_of_nested_brackets(response['choices'][0]['text'])"
   ]
  },
  {
   "cell_type": "code",
   "execution_count": 62,
   "id": "554a1458-925f-4684-b6ac-b88469b68559",
   "metadata": {
    "editable": true,
    "execution": {
     "iopub.execute_input": "2024-06-26T15:55:49.573110Z",
     "iopub.status.busy": "2024-06-26T15:55:49.572581Z",
     "iopub.status.idle": "2024-06-26T15:55:49.606401Z",
     "shell.execute_reply": "2024-06-26T15:55:49.605479Z",
     "shell.execute_reply.started": "2024-06-26T15:55:49.573060Z"
    },
    "slideshow": {
     "slide_type": "slide"
    },
    "tags": []
   },
   "outputs": [],
   "source": [
    "from langchain_core.pydantic_v1 import BaseModel, Field\n",
    "\n",
    "class multiply(BaseModel):\n",
    "    \"\"\"Multiply two integers together.\"\"\"\n",
    "\n",
    "    a: int = Field(..., description=\"First integer\")\n",
    "    b: int = Field(..., description=\"Second integer\")"
   ]
  },
  {
   "cell_type": "code",
   "execution_count": 63,
   "id": "34286011-e883-4cfa-8a45-360243f6c3a4",
   "metadata": {
    "editable": true,
    "execution": {
     "iopub.execute_input": "2024-06-26T15:55:50.247162Z",
     "iopub.status.busy": "2024-06-26T15:55:50.245689Z",
     "iopub.status.idle": "2024-06-26T15:55:50.278239Z",
     "shell.execute_reply": "2024-06-26T15:55:50.277430Z",
     "shell.execute_reply.started": "2024-06-26T15:55:50.247076Z"
    },
    "slideshow": {
     "slide_type": "fragment"
    },
    "tags": []
   },
   "outputs": [
    {
     "data": {
      "text/plain": [
       "'{\"type\": \"function\", \"function\": {\"name\": \"multiply\", \"description\": \"Multiply two integers together.\", \"parameters\": {\"type\": \"object\", \"properties\": {\"a\": {\"description\": \"First integer\", \"type\": \"integer\"}, \"b\": {\"description\": \"Second integer\", \"type\": \"integer\"}}, \"required\": [\"a\", \"b\"]}}}'"
      ]
     },
     "execution_count": 63,
     "metadata": {},
     "output_type": "execute_result"
    }
   ],
   "source": [
    "from langchain_core.utils.function_calling import convert_to_openai_tool\n",
    "\n",
    "json.dumps(convert_to_openai_tool(multiply))"
   ]
  },
  {
   "cell_type": "code",
   "execution_count": 22,
   "id": "def91b19-a10e-4243-9589-68cd960d7a9e",
   "metadata": {
    "editable": true,
    "execution": {
     "iopub.execute_input": "2024-06-26T15:28:36.225811Z",
     "iopub.status.busy": "2024-06-26T15:28:36.225314Z",
     "iopub.status.idle": "2024-06-26T15:28:36.272757Z",
     "shell.execute_reply": "2024-06-26T15:28:36.272040Z",
     "shell.execute_reply.started": "2024-06-26T15:28:36.225762Z"
    },
    "slideshow": {
     "slide_type": "slide"
    },
    "tags": []
   },
   "outputs": [
    {
     "data": {
      "text/plain": [
       "'{\"type\": \"function\", \"function\": {\"name\": \"python_repl_ast\", \"description\": \"A Python shell. Use this to execute python commands. Input should be a valid python command. When using this tool, sometimes output is abbreviated - make sure it does not look abbreviated before using it in your answer.\", \"parameters\": {\"type\": \"object\", \"properties\": {\"query\": {\"description\": \"code snippet to run\", \"type\": \"string\"}}, \"required\": [\"query\"]}}}'"
      ]
     },
     "execution_count": 22,
     "metadata": {},
     "output_type": "execute_result"
    }
   ],
   "source": [
    "import json\n",
    "\n",
    "from langchain_core.utils.function_calling import convert_to_openai_tool\n",
    "from langchain_experimental.tools.python.tool import PythonAstREPLTool\n",
    "\n",
    "tool = PythonAstREPLTool()\n",
    "function = convert_to_openai_tool(tool)\n",
    "json.dumps(function)"
   ]
  },
  {
   "cell_type": "code",
   "execution_count": 23,
   "id": "e1e31240-de9d-4957-b889-e0773f6c384c",
   "metadata": {
    "editable": true,
    "execution": {
     "iopub.execute_input": "2024-06-26T15:28:36.273693Z",
     "iopub.status.busy": "2024-06-26T15:28:36.273510Z",
     "iopub.status.idle": "2024-06-26T15:28:36.288339Z",
     "shell.execute_reply": "2024-06-26T15:28:36.287287Z",
     "shell.execute_reply.started": "2024-06-26T15:28:36.273675Z"
    },
    "slideshow": {
     "slide_type": "fragment"
    },
    "tags": []
   },
   "outputs": [],
   "source": [
    "user_prompt = \"What's 12345 times 54321?\""
   ]
  },
  {
   "cell_type": "code",
   "execution_count": 24,
   "id": "8db93959-0fe2-4352-8de2-1b0e391ced00",
   "metadata": {
    "editable": true,
    "execution": {
     "iopub.execute_input": "2024-06-26T15:28:36.288985Z",
     "iopub.status.busy": "2024-06-26T15:28:36.288843Z",
     "iopub.status.idle": "2024-06-26T15:28:36.305677Z",
     "shell.execute_reply": "2024-06-26T15:28:36.305298Z",
     "shell.execute_reply.started": "2024-06-26T15:28:36.288971Z"
    },
    "slideshow": {
     "slide_type": "slide"
    },
    "tags": []
   },
   "outputs": [
    {
     "data": {
      "text/plain": [
       "'<s>[AVAILABLE_TOOLS] [{\"type\": \"function\", \"function\": {\"name\": \"python_repl_ast\", \"description\": \"A Python shell. Use this to execute python commands. Input should be a valid python command. When using this tool, sometimes output is abbreviated - make sure it does not look abbreviated before using it in your answer.\", \"parameters\": {\"type\": \"object\", \"properties\": {\"query\": {\"description\": \"code snippet to run\", \"type\": \"string\"}}, \"required\": [\"query\"]}}}] [/AVAILABLE_TOOLS][INST] What\\'s 12345 times 54321? [/INST][TOOL_CALLS] '"
      ]
     },
     "execution_count": 24,
     "metadata": {},
     "output_type": "execute_result"
    }
   ],
   "source": [
    "import json\n",
    "\n",
    "final_prompt = (\n",
    "    \"<s>[AVAILABLE_TOOLS] [\"\n",
    "    + json.dumps(function)\n",
    "    + \"] [/AVAILABLE_TOOLS][INST] \"\n",
    "    + user_prompt\n",
    "    + \" [/INST]\"\n",
    "    + \"[TOOL_CALLS] \"\n",
    ")\n",
    "final_prompt"
   ]
  },
  {
   "cell_type": "code",
   "execution_count": 25,
   "id": "c56328d0-22ab-4e03-8315-74e87c09a58e",
   "metadata": {
    "editable": true,
    "execution": {
     "iopub.execute_input": "2024-06-26T15:28:36.306346Z",
     "iopub.status.busy": "2024-06-26T15:28:36.306199Z",
     "iopub.status.idle": "2024-06-26T15:28:37.921754Z",
     "shell.execute_reply": "2024-06-26T15:28:37.921010Z",
     "shell.execute_reply.started": "2024-06-26T15:28:36.306332Z"
    },
    "slideshow": {
     "slide_type": "slide"
    },
    "tags": []
   },
   "outputs": [
    {
     "name": "stdout",
     "output_type": "stream",
     "text": [
      " [{\"name\": \"python_repl_ast\", \"arguments\": {\"query\": \"print(12345 * 54321)\"}}]\n"
     ]
    }
   ],
   "source": [
    "options = {'prompt': final_prompt, 'temperature': 0, 'seed': 42, 'max_tokens': None}\n",
    "response = requests.post(api_completions, json=options).json()\n",
    "print(response['choices'][0]['text'])"
   ]
  },
  {
   "cell_type": "code",
   "execution_count": 26,
   "id": "69816b63-600c-4490-9069-2bc8257ff38f",
   "metadata": {
    "editable": true,
    "execution": {
     "iopub.execute_input": "2024-06-26T15:28:37.922666Z",
     "iopub.status.busy": "2024-06-26T15:28:37.922495Z",
     "iopub.status.idle": "2024-06-26T15:28:37.937978Z",
     "shell.execute_reply": "2024-06-26T15:28:37.937596Z",
     "shell.execute_reply.started": "2024-06-26T15:28:37.922651Z"
    },
    "slideshow": {
     "slide_type": "fragment"
    },
    "tags": []
   },
   "outputs": [
    {
     "data": {
      "text/plain": [
       "'{\"name\": \"python_repl_ast\", \"arguments\": {\"query\": \"print(12345 * 54321)\"}}'"
      ]
     },
     "execution_count": 26,
     "metadata": {},
     "output_type": "execute_result"
    }
   ],
   "source": [
    "clean_response = extract_first_of_nested_brackets(response['choices'][0]['text'])\n",
    "clean_response"
   ]
  },
  {
   "cell_type": "code",
   "execution_count": 27,
   "id": "5df715d7-7eda-47d7-af7a-edc6dc32ddf6",
   "metadata": {
    "editable": true,
    "execution": {
     "iopub.execute_input": "2024-06-26T15:28:37.938633Z",
     "iopub.status.busy": "2024-06-26T15:28:37.938482Z",
     "iopub.status.idle": "2024-06-26T15:28:37.970371Z",
     "shell.execute_reply": "2024-06-26T15:28:37.969174Z",
     "shell.execute_reply.started": "2024-06-26T15:28:37.938618Z"
    },
    "slideshow": {
     "slide_type": "fragment"
    },
    "tags": []
   },
   "outputs": [
    {
     "name": "stdout",
     "output_type": "stream",
     "text": [
      "670592745\n",
      "\n"
     ]
    }
   ],
   "source": [
    "import json_repair\n",
    "output = json_repair.loads(clean_response)['arguments']['query']\n",
    "print(tool.run(output))"
   ]
  },
  {
   "cell_type": "markdown",
   "id": "f3362b5f-235c-4f22-8d8a-7fc291244c8d",
   "metadata": {
    "editable": true,
    "slideshow": {
     "slide_type": "slide"
    },
    "tags": []
   },
   "source": [
    "## Introduction to Mixed Strategy Nash Equilibrium Games"
   ]
  },
  {
   "cell_type": "markdown",
   "id": "e2b85e52-6a8e-4e57-8e24-ef2397d8f84f",
   "metadata": {
    "editable": true,
    "jp-MarkdownHeadingCollapsed": true,
    "slideshow": {
     "slide_type": "slide"
    },
    "tags": []
   },
   "source": [
    "## Matching Pennies: Game description\n",
    "\n",
    "- Each player has two possible actions: to play Heads or Tails.\n",
    "- Both players reveal their choices simultaneously.\n",
    "- If both choices match (both Heads or both Tails), Player 1 wins. If the choices do not match (one Heads and one Tails), Player 2 wins."
   ]
  },
  {
   "cell_type": "markdown",
   "id": "9de5be41-11b7-41e4-83bc-e21ad13a7acd",
   "metadata": {
    "editable": true,
    "jp-MarkdownHeadingCollapsed": true,
    "slideshow": {
     "slide_type": "fragment"
    },
    "tags": []
   },
   "source": [
    "## Matching Pennies: Payoff Matrix\n",
    "\n",
    "|       | Heads   | Tails   |\n",
    "|-------|---------|---------|\n",
    "| Heads | (1,-1)  | (-1,1)  |\n",
    "| Tails | (-1,1)  | (1,-1)  |"
   ]
  },
  {
   "cell_type": "markdown",
   "id": "aa53c2a2-390a-490f-a3e2-8982caae0604",
   "metadata": {
    "editable": true,
    "slideshow": {
     "slide_type": "slide"
    },
    "tags": []
   },
   "source": [
    "## Matching Pennies: Motivation Example\n",
    "\n",
    "- Alice and Bob need to communicate sensitive information securely over a network that offers two distinct communication channels (let's call them Heads and Tails).\n",
    "- However, their communication is at risk as Eve, an eavesdropper, aims to intercept their messages. Eve has the capability to spy on only one of these channels."
   ]
  },
  {
   "cell_type": "markdown",
   "id": "9426509c-b1fd-4f4c-bb51-fe06628fef4f",
   "metadata": {
    "editable": true,
    "slideshow": {
     "slide_type": "fragment"
    },
    "tags": []
   },
   "source": [
    "## Matching Pennies: Nash equilibrium\n",
    "\n",
    "- No pure strategy Nash equilibrium\n",
    "- Mixed strategy Nash equilibrium: each player chooses Heads or Tails with equal probability (50\\% chance of Heads and 50\\% chance of Tails).\n",
    "- No incentive to deviate from the 50-50 strategy, which makes it a Nash equilibrium."
   ]
  },
  {
   "cell_type": "markdown",
   "id": "adcd13c6-871c-4755-8c10-3d394eccc797",
   "metadata": {
    "editable": true,
    "slideshow": {
     "slide_type": "slide"
    },
    "tags": []
   },
   "source": [
    "## Modified Matching Pennies: Payoff Matrix\n",
    "\n",
    "|       | Heads   | Tails   |\n",
    "|-------|---------|---------|\n",
    "| Heads | (7,-1)  | (-1,1)  |\n",
    "| Tails | (-1,1)  | (1,-1)  |"
   ]
  },
  {
   "cell_type": "markdown",
   "id": "5da37a11-ad87-4366-a09e-ccc86a18ec3b",
   "metadata": {
    "editable": true,
    "slideshow": {
     "slide_type": "fragment"
    },
    "tags": []
   },
   "source": [
    "## Modified Matching Pennies: Nash Equilibrium\n",
    "- Player 1 plays both options (Heads and Tails) with equal probability $1/2$.\n",
    "- Player 2 plays Heads with probability $1/5$ and Tails with probability $4/5$."
   ]
  },
  {
   "cell_type": "markdown",
   "id": "0f831878-8292-40c2-981e-e408c1cbfebe",
   "metadata": {
    "editable": true,
    "slideshow": {
     "slide_type": "slide"
    },
    "tags": []
   },
   "source": [
    "## LLMs playing Mixed Strategy Nash Equilibrium Games"
   ]
  },
  {
   "cell_type": "markdown",
   "id": "b5eaf85d-0a77-43ba-bdb7-e6669ba0c328",
   "metadata": {
    "editable": true,
    "slideshow": {
     "slide_type": "slide"
    },
    "tags": []
   },
   "source": [
    "### Does the LLM know the game?"
   ]
  },
  {
   "cell_type": "markdown",
   "id": "42c2f25b-02ab-458a-bf29-1ced627d4f74",
   "metadata": {
    "editable": true,
    "slideshow": {
     "slide_type": "fragment"
    },
    "tags": []
   },
   "source": [
    "![ChatGPT](./assets/ChatGPT-Nothing.jpg)"
   ]
  },
  {
   "cell_type": "markdown",
   "id": "97a01109-7055-4ba5-b998-8cfe5f1a12d4",
   "metadata": {
    "editable": true,
    "slideshow": {
     "slide_type": "fragment"
    },
    "tags": []
   },
   "source": [
    "[Link to full conversation](https://chatgpt.com/share/8a611112-43c3-4054-8faf-c5bde813fb3f)"
   ]
  },
  {
   "cell_type": "markdown",
   "id": "80975dce-ea7d-4e64-bf8c-d5a63ac2c5f7",
   "metadata": {
    "editable": true,
    "execution": {
     "iopub.execute_input": "2024-06-26T10:48:56.392257Z",
     "iopub.status.busy": "2024-06-26T10:48:56.391585Z",
     "iopub.status.idle": "2024-06-26T10:48:56.423855Z",
     "shell.execute_reply": "2024-06-26T10:48:56.422432Z",
     "shell.execute_reply.started": "2024-06-26T10:48:56.392204Z"
    },
    "slideshow": {
     "slide_type": "slide"
    },
    "tags": []
   },
   "source": [
    "PROMPT: \"What's the Mixed Strategy Nash equilibrium for the matching pennies game?\""
   ]
  },
  {
   "cell_type": "markdown",
   "id": "f0df5c6c-c25d-4570-8d6d-9ed7c346e469",
   "metadata": {
    "editable": true,
    "slideshow": {
     "slide_type": "fragment"
    },
    "tags": []
   },
   "source": [
    "ANSWER: The Matching Pennies game is a two-player, zero-sum game where each player secretly chooses either heads (H) or tails (T). If both players choose the same option, the player who chose first wins the coin, and if they choose differently, the second player wins.\n",
    "\n",
    "In a Nash equilibrium, neither player has an incentive to deviate from their strategy if they believe the other player will stick to theirs. However, in the Matching Pennies game, there is no pure strategy Nash equilibrium because both players would have an incentive to deviate from their strategies if they knew what the other player was going to do.\n",
    "\n",
    "Instead, the Matching Pennies game has a mixed strategy Nash equilibrium. In this case, each player should randomly choose heads or tails with equal probability (0.5). This way, neither player can gain an advantage by deviating from their random choice, as they have no information about the other player's decision.\n",
    "\n",
    "**So, the mixed strategy Nash equilibrium for the Matching Pennies game is each player choosing H and T with a 50% probability.**"
   ]
  },
  {
   "cell_type": "markdown",
   "id": "9cefe1fa-f8c5-4047-acd1-5c4ca3c8881d",
   "metadata": {
    "editable": true,
    "slideshow": {
     "slide_type": "slide"
    },
    "tags": []
   },
   "source": [
    "### Does the LLM play the game well?"
   ]
  },
  {
   "cell_type": "markdown",
   "id": "8a144337-14bf-4980-ad26-11a36c53dc79",
   "metadata": {},
   "source": [
    "![ChatGPT](./assets/ChatGPT-MP.jpg)"
   ]
  },
  {
   "cell_type": "code",
   "execution_count": 28,
   "id": "fedd022b-72a1-44b9-b558-1dbd4a4df71d",
   "metadata": {
    "editable": true,
    "execution": {
     "iopub.execute_input": "2024-06-26T15:28:37.972437Z",
     "iopub.status.busy": "2024-06-26T15:28:37.971973Z",
     "iopub.status.idle": "2024-06-26T15:28:37.995959Z",
     "shell.execute_reply": "2024-06-26T15:28:37.995383Z",
     "shell.execute_reply.started": "2024-06-26T15:28:37.972392Z"
    },
    "slideshow": {
     "slide_type": "fragment"
    },
    "tags": []
   },
   "outputs": [],
   "source": [
    "user_prompt = (\n",
    "    \"Respond to the following text with one of the following answers: `heads`, `tails`. \"\n",
    "    \"Provide your response in JSON format containing a single key `answer`. \"\n",
    "    \"**Text**: ```Let's play matching pennies. I have made my choice. \"\n",
    "    \"Now, you should make your choice. What do you play?\\n```\"\n",
    ")"
   ]
  },
  {
   "cell_type": "code",
   "execution_count": 29,
   "id": "8420cbda-f819-458d-9ca6-9f932ad79a92",
   "metadata": {
    "editable": true,
    "execution": {
     "iopub.execute_input": "2024-06-26T15:28:37.996915Z",
     "iopub.status.busy": "2024-06-26T15:28:37.996694Z",
     "iopub.status.idle": "2024-06-26T15:28:40.412913Z",
     "shell.execute_reply": "2024-06-26T15:28:40.412420Z",
     "shell.execute_reply.started": "2024-06-26T15:28:37.996894Z"
    },
    "slideshow": {
     "slide_type": "slide"
    },
    "tags": []
   },
   "outputs": [
    {
     "name": "stdout",
     "output_type": "stream",
     "text": [
      "heads\n",
      "heads\n",
      "heads\n",
      "tails\n",
      "heads\n"
     ]
    }
   ],
   "source": [
    "from json_repair import repair_json\n",
    "\n",
    "answers = []\n",
    "for seed in range(5):\n",
    "    options = {\n",
    "        'messages': [{\"role\": \"user\", \"content\": user_prompt}],\n",
    "        'seed': seed,\n",
    "    }\n",
    "    response_raw = requests.post(f\"http://localhost:8000/v1/chat/completions\", json=options).json()\n",
    "    response = response_raw[\"choices\"][0][\"message\"][\"content\"]\n",
    "    repaired_response = repair_json(response)\n",
    "    first_of_nested_brackets = extract_first_of_nested_brackets(repaired_response)\n",
    "    answer = json_repair.loads(first_of_nested_brackets)[\"answer\"]\n",
    "    answers.append(answer)\n",
    "    print(answer)"
   ]
  },
  {
   "cell_type": "markdown",
   "id": "2f4b6398-01b4-4642-8aaf-5e58d79596cf",
   "metadata": {},
   "source": [
    "| Probability          | Value  |\n",
    "|----------------------|--------|\n",
    "| $p_{\\text{Heads}}$   | 77.9%  |\n",
    "| $p_{\\text{Tails}}$   | 22.1%  |"
   ]
  },
  {
   "cell_type": "markdown",
   "id": "05e211cf-0185-429a-832f-823f1d858d27",
   "metadata": {
    "editable": true,
    "slideshow": {
     "slide_type": "slide"
    },
    "tags": []
   },
   "source": [
    "## Let LLMs run code"
   ]
  },
  {
   "cell_type": "markdown",
   "id": "97ecf1e2-bdf7-4317-8f53-f787e011b3f8",
   "metadata": {
    "editable": true,
    "slideshow": {
     "slide_type": "slide"
    },
    "tags": []
   },
   "source": [
    "![ChatGPT](./assets/ChatGPT-MP-Use-Python.jpg)"
   ]
  },
  {
   "cell_type": "code",
   "execution_count": 30,
   "id": "d3e5b08e-1ea3-46ba-8d48-878c9d25ce1c",
   "metadata": {
    "editable": true,
    "execution": {
     "iopub.execute_input": "2024-06-26T15:28:40.413772Z",
     "iopub.status.busy": "2024-06-26T15:28:40.413588Z",
     "iopub.status.idle": "2024-06-26T15:28:40.427793Z",
     "shell.execute_reply": "2024-06-26T15:28:40.427406Z",
     "shell.execute_reply.started": "2024-06-26T15:28:40.413755Z"
    },
    "slideshow": {
     "slide_type": "slide"
    },
    "tags": []
   },
   "outputs": [],
   "source": [
    "user_prompt = (\n",
    "    \"Let's play matching pennies. I have made my choice. Now, you should make your choice. \"\n",
    "    \"What do you play? Use Python.\"\n",
    ")"
   ]
  },
  {
   "cell_type": "code",
   "execution_count": 31,
   "id": "3324738a-9121-44d7-be3c-a312c25d91a7",
   "metadata": {
    "editable": true,
    "execution": {
     "iopub.execute_input": "2024-06-26T15:28:40.428449Z",
     "iopub.status.busy": "2024-06-26T15:28:40.428301Z",
     "iopub.status.idle": "2024-06-26T15:28:40.452943Z",
     "shell.execute_reply": "2024-06-26T15:28:40.452452Z",
     "shell.execute_reply.started": "2024-06-26T15:28:40.428435Z"
    },
    "slideshow": {
     "slide_type": "fragment"
    },
    "tags": []
   },
   "outputs": [],
   "source": [
    "final_prompt = (\n",
    "    \"<s>[AVAILABLE_TOOLS] [\"\n",
    "    + str(function)\n",
    "    + \"] [/AVAILABLE_TOOLS][INST] \"\n",
    "    + user_prompt\n",
    "    + \" [/INST]\"\n",
    "    + \"\"\"[TOOL_CALLS] [{\"name\": \"python_repl_ast\", \"arguments\": {\"query\": \"\"\"\n",
    ")"
   ]
  },
  {
   "cell_type": "code",
   "execution_count": 32,
   "id": "9d6503d0-0a45-4765-8954-a0eeac2830a6",
   "metadata": {
    "editable": true,
    "execution": {
     "iopub.execute_input": "2024-06-26T15:28:40.453750Z",
     "iopub.status.busy": "2024-06-26T15:28:40.453562Z",
     "iopub.status.idle": "2024-06-26T15:28:40.477641Z",
     "shell.execute_reply": "2024-06-26T15:28:40.476426Z",
     "shell.execute_reply.started": "2024-06-26T15:28:40.453732Z"
    },
    "slideshow": {
     "slide_type": "fragment"
    },
    "tags": []
   },
   "outputs": [],
   "source": [
    "options = {\"prompt\": final_prompt, \"max_tokens\": None, \"temperature\": 0, \"seed\": 42,}"
   ]
  },
  {
   "cell_type": "code",
   "execution_count": 33,
   "id": "31cc2731-1079-43d2-9c47-f16c76d02dde",
   "metadata": {
    "editable": true,
    "execution": {
     "iopub.execute_input": "2024-06-26T15:28:40.479758Z",
     "iopub.status.busy": "2024-06-26T15:28:40.479181Z",
     "iopub.status.idle": "2024-06-26T15:28:45.392678Z",
     "shell.execute_reply": "2024-06-26T15:28:45.392182Z",
     "shell.execute_reply.started": "2024-06-26T15:28:40.479711Z"
    },
    "slideshow": {
     "slide_type": "fragment"
    },
    "tags": []
   },
   "outputs": [
    {
     "name": "stdout",
     "output_type": "stream",
     "text": [
      "import random\n",
      "choice = random.randint(0, 1)\n",
      "print('Heads' if choice == 0 else 'Tails')\n"
     ]
    }
   ],
   "source": [
    "response = requests.post(f\"http://localhost:8000/v1/completions\", json=options).json()\n",
    "text = \"\"\"{'name': 'python_repl_ast', 'arguments': {'query':\"\"\" + f\"\"\"{str(response['choices'][0]['text'][:-1])}\"\"\"\n",
    "print(json_repair.loads(text)['arguments']['query'])"
   ]
  },
  {
   "cell_type": "code",
   "execution_count": 34,
   "id": "060abaf0-4b0f-46a0-bf6b-a818487c3b0a",
   "metadata": {
    "editable": true,
    "execution": {
     "iopub.execute_input": "2024-06-26T15:28:52.972552Z",
     "iopub.status.busy": "2024-06-26T15:28:52.971962Z",
     "iopub.status.idle": "2024-06-26T15:28:53.005656Z",
     "shell.execute_reply": "2024-06-26T15:28:53.005010Z",
     "shell.execute_reply.started": "2024-06-26T15:28:52.972498Z"
    },
    "slideshow": {
     "slide_type": "fragment"
    },
    "tags": []
   },
   "outputs": [
    {
     "name": "stdout",
     "output_type": "stream",
     "text": [
      "Heads\n"
     ]
    }
   ],
   "source": [
    "import random\n",
    "choice = random.randint(0, 1)\n",
    "print('Heads' if choice == 0 else 'Tails')"
   ]
  },
  {
   "cell_type": "markdown",
   "id": "d7e2b25e-5629-40d3-b754-d5bcc2fa1fee",
   "metadata": {
    "editable": true,
    "slideshow": {
     "slide_type": "slide"
    },
    "tags": []
   },
   "source": [
    "## Can the LLM play a small modification of the game?"
   ]
  },
  {
   "cell_type": "markdown",
   "id": "bcd081b5-eff6-40cc-8a78-59ccc44a5472",
   "metadata": {
    "editable": true,
    "slideshow": {
     "slide_type": "fragment"
    },
    "tags": []
   },
   "source": [
    "![ChatGPT](./assets/ChatGPT-Final.jpg)"
   ]
  },
  {
   "cell_type": "markdown",
   "id": "7516547d-27fc-4f0a-a6bd-834509c8d983",
   "metadata": {
    "editable": true,
    "slideshow": {
     "slide_type": "fragment"
    },
    "tags": []
   },
   "source": [
    "[Link to full conversation](https://chatgpt.com/share/fc5f2a12-c50f-4ece-bbe2-6a898b645353)"
   ]
  },
  {
   "cell_type": "code",
   "execution_count": 35,
   "id": "4499674b-bacc-490f-b3b4-aef35fa03a09",
   "metadata": {
    "editable": true,
    "execution": {
     "iopub.execute_input": "2024-06-26T15:28:57.001444Z",
     "iopub.status.busy": "2024-06-26T15:28:57.000890Z",
     "iopub.status.idle": "2024-06-26T15:28:57.032686Z",
     "shell.execute_reply": "2024-06-26T15:28:57.031987Z",
     "shell.execute_reply.started": "2024-06-26T15:28:57.001391Z"
    },
    "slideshow": {
     "slide_type": "slide"
    },
    "tags": []
   },
   "outputs": [],
   "source": [
    "user_prompt = (\n",
    "    \"Let's play once a modification of the Matching Pennies game. \"\n",
    "    \"More precisely, each of us has two possible actions: to play Heads or Tails. \"\n",
    "    \"We both reveal our choices simultaneously. \"\n",
    "    \"If both of us play Heads, then I gain 7 points and you lose 1 point, \"\n",
    "    \"if both of us play Tails, then I gain 1 point and you lose 1 point. \"\n",
    "    \"If our choices do not match (one Heads and one Tails), you gain 1 point and I lose 1 point. \"\n",
    "    \"I have made my choice. Now, you should make your choice. \"\n",
    "    \"What do you play? Choose your choice first in valid Python code.\"\n",
    ")"
   ]
  },
  {
   "cell_type": "code",
   "execution_count": 36,
   "id": "dd0bf167-b997-4aa9-9040-f63b31e6f4ac",
   "metadata": {
    "editable": true,
    "execution": {
     "iopub.execute_input": "2024-06-26T15:28:57.661087Z",
     "iopub.status.busy": "2024-06-26T15:28:57.660543Z",
     "iopub.status.idle": "2024-06-26T15:28:57.690243Z",
     "shell.execute_reply": "2024-06-26T15:28:57.688951Z",
     "shell.execute_reply.started": "2024-06-26T15:28:57.661035Z"
    },
    "slideshow": {
     "slide_type": "fragment"
    },
    "tags": []
   },
   "outputs": [],
   "source": [
    "final_prompt = \"<s>[AVAILABLE_TOOLS] [\" + str(function) + \"] [/AVAILABLE_TOOLS][INST] \" + \\\n",
    "                user_prompt + \" [/INST]\" + \"[TOOL_CALLS] [{\\'name\\': \\'python_repl_ast\\', \\'arguments\\': {\\'query\\': \""
   ]
  },
  {
   "cell_type": "code",
   "execution_count": 37,
   "id": "425dc43f-c50e-43e1-ace3-7a54b6c07ceb",
   "metadata": {
    "editable": true,
    "execution": {
     "iopub.execute_input": "2024-06-26T15:28:58.130073Z",
     "iopub.status.busy": "2024-06-26T15:28:58.129531Z",
     "iopub.status.idle": "2024-06-26T15:28:58.158545Z",
     "shell.execute_reply": "2024-06-26T15:28:58.157541Z",
     "shell.execute_reply.started": "2024-06-26T15:28:58.130021Z"
    },
    "slideshow": {
     "slide_type": "fragment"
    },
    "tags": []
   },
   "outputs": [],
   "source": [
    "options = {\"prompt\": final_prompt, \"max_tokens\": None, \"temperature\": 0, \"seed\": 42}"
   ]
  },
  {
   "cell_type": "code",
   "execution_count": 38,
   "id": "53f32ce4-1639-420c-a6d9-eea3618c2c28",
   "metadata": {
    "editable": true,
    "execution": {
     "iopub.execute_input": "2024-06-26T15:28:58.629273Z",
     "iopub.status.busy": "2024-06-26T15:28:58.628596Z",
     "iopub.status.idle": "2024-06-26T15:29:04.903222Z",
     "shell.execute_reply": "2024-06-26T15:29:04.902709Z",
     "shell.execute_reply.started": "2024-06-26T15:28:58.629219Z"
    },
    "slideshow": {
     "slide_type": "slide"
    },
    "tags": []
   },
   "outputs": [
    {
     "name": "stdout",
     "output_type": "stream",
     "text": [
      "import random\n",
      "choice = 'Heads' if random.randint(0, 1) == 0 else 'Tails'\n",
      "print('I play: ', choice)\n"
     ]
    }
   ],
   "source": [
    "response = requests.post(f\"http://localhost:8000/v1/completions\", json=options).json()\n",
    "text = \"\"\"{'name': 'python_repl_ast', 'arguments': {'query':\"\"\" + f\"\"\"{str(response['choices'][0]['text'][:-1])}\"\"\"\n",
    "first_of_nested_brackets = extract_first_of_nested_brackets(text)\n",
    "print(json_repair.loads(first_of_nested_brackets)['arguments']['query'])"
   ]
  },
  {
   "cell_type": "code",
   "execution_count": 39,
   "id": "20b96323-c002-4865-a4e1-15434eeb3f16",
   "metadata": {
    "editable": true,
    "execution": {
     "iopub.execute_input": "2024-06-26T15:29:04.904240Z",
     "iopub.status.busy": "2024-06-26T15:29:04.904058Z",
     "iopub.status.idle": "2024-06-26T15:29:04.918722Z",
     "shell.execute_reply": "2024-06-26T15:29:04.918342Z",
     "shell.execute_reply.started": "2024-06-26T15:29:04.904223Z"
    },
    "slideshow": {
     "slide_type": "fragment"
    },
    "tags": []
   },
   "outputs": [
    {
     "name": "stdout",
     "output_type": "stream",
     "text": [
      "Heads\n"
     ]
    }
   ],
   "source": [
    "import random\n",
    "choice = \"Heads\" if random.randint(0, 1) == 0 else \"Tails\"\n",
    "print(choice)"
   ]
  },
  {
   "cell_type": "markdown",
   "id": "78fb06c7-d5ab-415a-a22b-3d46c7c908cf",
   "metadata": {
    "editable": true,
    "slideshow": {
     "slide_type": "slide"
    },
    "tags": []
   },
   "source": [
    "## Conclusions and Perspectives"
   ]
  },
  {
   "cell_type": "markdown",
   "id": "3f5887bb-1b83-439e-bc19-fc3451e2fe62",
   "metadata": {
    "editable": true,
    "slideshow": {
     "slide_type": "slide"
    },
    "tags": []
   },
   "source": [
    "- Despite their preexisting knowledge of classic games, LLMs are bad at playing Mixed Strategy Nash Equilibrium games. Perhaps [not surprising](https://x.com/alonsosilva/status/1679948389813821443)."
   ]
  },
  {
   "cell_type": "markdown",
   "id": "ed1cf232-739a-4e48-be6f-909a411d36ee",
   "metadata": {
    "editable": true,
    "slideshow": {
     "slide_type": "fragment"
    },
    "tags": []
   },
   "source": [
    "- LLMs can significantly enhance their performance when they are enabled to run code and are encouraged to use this functionality. See also [GPT-4o](https://chatgpt.com/share/bf481a05-c6a7-4d8f-8474-9bd77329aa16)"
   ]
  },
  {
   "cell_type": "markdown",
   "id": "4151965c-a975-4510-95f3-e101f517f725",
   "metadata": {
    "editable": true,
    "slideshow": {
     "slide_type": "fragment"
    },
    "tags": []
   },
   "source": [
    "- Critical limitations in the adaptability of LLMs when confronted with games that involve slightly more complex randomization strategies or slight modifications from standard scenarios."
   ]
  },
  {
   "cell_type": "markdown",
   "id": "c7e1ed10-80e3-491c-8a0a-d2ec3b2465aa",
   "metadata": {
    "editable": true,
    "slideshow": {
     "slide_type": "fragment"
    },
    "tags": []
   },
   "source": [
    "- In such cases, the performance of LLMs noticeably declines, suggesting that while LLMs are proficient in handling familiar and straightforward game dynamics, their effectiveness is reduced in more complex or altered game setups."
   ]
  },
  {
   "cell_type": "markdown",
   "id": "6eca5fbc-b6c8-4e98-ac73-264a6ee4e643",
   "metadata": {
    "editable": true,
    "slideshow": {
     "slide_type": "fragment"
    },
    "tags": []
   },
   "source": [
    "- The paper can be found in [arXiv](https://arxiv.org/abs/2406.10574) and all code of the paper can be found [here](https://github.com/alonsosilvaallende/LLMs_Playing_MSNE_Games/tree/main)"
   ]
  },
  {
   "cell_type": "markdown",
   "id": "9c46f223-353d-4431-8ffa-3cede50ab545",
   "metadata": {
    "editable": true,
    "slideshow": {
     "slide_type": "slide"
    },
    "tags": []
   },
   "source": [
    "Thank you!"
   ]
  }
 ],
 "metadata": {
  "kernelspec": {
   "display_name": "Python 3 (ipykernel)",
   "language": "python",
   "name": "python3"
  },
  "language_info": {
   "codemirror_mode": {
    "name": "ipython",
    "version": 3
   },
   "file_extension": ".py",
   "mimetype": "text/x-python",
   "name": "python",
   "nbconvert_exporter": "python",
   "pygments_lexer": "ipython3",
   "version": "3.10.12"
  }
 },
 "nbformat": 4,
 "nbformat_minor": 5
}
